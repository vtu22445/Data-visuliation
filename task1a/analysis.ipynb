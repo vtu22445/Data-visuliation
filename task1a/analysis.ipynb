{
  "cells": [
    {
      "cell_type": "markdown",
      "metadata": {},
      "source": [
        "# Data Exploration and Cleaning for agriculture_crop_yield.csv\n",
        "\n",
        "This notebook performs tasks 1.a and 1.b on the provided dataset `agriculture_crop_yield.csv` in the workspace.\n",
        "\n",
        "- 1.a: Import libraries, read and display dataset, show dimensionality (columns, types, missing values), compute statistics on numerical features, and compute shape.\n",
        "- 1.b: Read dataset and display 5 lines, count nulls per column, clean up blank (fully-null) columns, identify and remove duplicates.\n",
        "\n",
        "The cleaned dataset will be saved as `agriculture_crop_yield_cleaned.csv` in the same folder.\n"
      ]
    },
    {
      "cell_type": "code",
      "execution_count": null,
      "metadata": {},
      "outputs": [],
      "source": [
        "import os\n",
        "import pandas as pd\n",
        "import numpy as np\n",
        "\n",
        "# Display options for readability\n",
        "pd.set_option('display.max_columns', None)\n",
        "pd.set_option('display.width', 120)\n",
        "\n",
        "DATA_PATH = \"/Users/karthikmac/Downloads/DV_USECASE/task 1/agriculture_crop_yield.csv\"\n",
        "assert os.path.exists(DATA_PATH), f\"Dataset not found at {DATA_PATH}\"\n"
      ]
    },
    {
      "cell_type": "code",
      "execution_count": null,
      "metadata": {},
      "outputs": [],
      "source": [
        "# 1.a) Read and display the details of the dataset\n",
        "\n",
        "df = pd.read_csv(DATA_PATH)\n",
        "print(\"First 10 rows:\")\n",
        "display(df.head(10))\n",
        "\n",
        "print(\"\\nInfo:\")\n",
        "df_info = df.dtypes.to_frame(name='dtype')\n",
        "df_info['non_null_count'] = df.notna().sum()\n",
        "df_info['null_count'] = df.isna().sum()\n",
        "df_info['null_percent'] = (df_info['null_count'] / len(df)) * 100\n",
        "\n",
        "display(df_info)\n",
        "\n",
        "print(\"\\nDimensionality (rows, columns):\", df.shape)\n",
        "print(\"\\nColumns:\")\n",
        "print(list(df.columns))\n",
        "\n",
        "print(\"\\nCompute statistics on numerical features:\")\n",
        "display(df.describe(include=[np.number]).T)\n",
        "\n",
        "print(\"\\nOverall shape of dataset:\")\n",
        "print(df.shape)\n"
      ]
    },
    {
      "cell_type": "code",
      "execution_count": null,
      "metadata": {},
      "outputs": [],
      "source": [
        "# 1.b) Additional EDA and cleaning\n",
        "\n",
        "print(\"Display first 5 rows:\")\n",
        "display(df.head(5))\n",
        "\n",
        "print(\"\\nNull values per column:\")\n",
        "null_counts = df.isna().sum().sort_values(ascending=False)\n",
        "display(null_counts)\n",
        "\n",
        "# Remove fully-null columns\n",
        "fully_null_cols = [c for c in df.columns if df[c].isna().all()]\n",
        "print(\"\\nFully null columns to drop:\", fully_null_cols)\n",
        "df_clean = df.drop(columns=fully_null_cols) if fully_null_cols else df.copy()\n",
        "\n",
        "# Remove duplicate rows\n",
        "initial_shape = df_clean.shape\n",
        "df_clean = df_clean.drop_duplicates()\n",
        "print(f\"\\nRemoved duplicates: {initial_shape[0] - df_clean.shape[0]}\")\n",
        "print(\"New shape after cleaning:\", df_clean.shape)\n",
        "\n",
        "display(df_clean.head(10))\n"
      ]
    },
    {
      "cell_type": "code",
      "execution_count": null,
      "metadata": {},
      "outputs": [],
      "source": [
        "# Save cleaned dataset\n",
        "CLEAN_PATH = \"/Users/karthikmac/Downloads/DV_USECASE/task 1/agriculture_crop_yield_cleaned.csv\"\n",
        "df_clean.to_csv(CLEAN_PATH, index=False)\n",
        "print(f\"Saved cleaned dataset to: {CLEAN_PATH}\")\n",
        "\n",
        "# Quick preview of saved file\n",
        "preview_df = pd.read_csv(CLEAN_PATH, nrows=5)\n",
        "display(preview_df)\n"
      ]
    }
  ],
  "metadata": {
    "language_info": {
      "name": "python"
    }
  },
  "nbformat": 4,
  "nbformat_minor": 2
}
